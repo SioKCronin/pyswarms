{
 "cells": [
  {
   "cell_type": "markdown",
   "metadata": {},
   "source": [
    "# Basic Optimization\n",
    "In this example, we'll be performing a simple optimization of single-objective functions using the global-best optimizer in `pyswarms.single.GBestPSO` and the local-best optimizer in `pyswarms.single.LBestPSO`. This aims to demonstrate the basic capabilities of the library when applied to benchmark problems."
   ]
  },
  {
   "cell_type": "code",
   "execution_count": 1,
   "metadata": {
    "collapsed": true
   },
   "outputs": [],
   "source": [
    "import sys\n",
    "sys.path.append('../')"
   ]
  },
  {
   "cell_type": "code",
   "execution_count": 2,
   "metadata": {
    "collapsed": true
   },
   "outputs": [],
   "source": [
    "# Import modules\n",
    "import numpy as np\n",
    "\n",
    "# Import PySwarms\n",
    "import pyswarms as ps\n",
    "from pyswarms.utils.functions import single_obj as fx\n",
    "\n",
    "# Some more magic so that the notebook will reload external python modules;\n",
    "# see http://stackoverflow.com/questions/1907993/autoreload-of-modules-in-ipython\n",
    "%load_ext autoreload\n",
    "%autoreload 2"
   ]
  },
  {
   "cell_type": "markdown",
   "metadata": {},
   "source": [
    "## Optimizing a function\n",
    "First, let's start by optimizing the sphere function. Recall that the minima of this function can be located at `f(0,0..,0)` with a value of `0`. In case you don't remember the characteristics of a given function, simply call `help(<function>)`."
   ]
  },
  {
   "cell_type": "markdown",
   "metadata": {},
   "source": [
    "For now let's just set some arbitrary parameters in our optimizers. There are, at minimum, three steps to perform optimization:\n",
    "\n",
    "1. Set the hyperparameters to configure the swarm as a `dict`.\n",
    "2. Create an instance of the optimizer by passing the dictionary along with the necessary arguments.\n",
    "3. Call the `optimize()` method and have it store the optimal cost and position in a variable.\n",
    "\n",
    "The `optimize()` method returns a `tuple` of values, one of which includes the optimal cost and position after optimization. You can store it in a single variable and just index the values, or unpack it using several variables at once."
   ]
  },
  {
   "cell_type": "code",
   "execution_count": 3,
   "metadata": {},
   "outputs": [
    {
     "name": "stdout",
     "output_type": "stream",
     "text": [
      "Iteration 1/1000, cost: 0.172625433638\n",
      "Iteration 101/1000, cost: 9.78790435841e-08\n",
      "Iteration 201/1000, cost: 1.06971376846e-10\n",
      "Iteration 301/1000, cost: 8.14953145258e-16\n",
      "Iteration 401/1000, cost: 3.12401159696e-20\n",
      "Iteration 501/1000, cost: 1.48621699689e-22\n",
      "Iteration 601/1000, cost: 3.66990623598e-25\n",
      "Iteration 701/1000, cost: 9.59668571497e-31\n",
      "Iteration 801/1000, cost: 1.4444452957e-34\n",
      "Iteration 901/1000, cost: 6.65383019372e-38\n",
      "================================\n",
      "Optimization finished!\n",
      "Final cost: 0.0000\n",
      "Best value: [-5.4976282085417155e-21, 5.2520478160189662e-22]\n",
      "\n"
     ]
    }
   ],
   "source": [
    "# Set-up hyperparameters\n",
    "options = {'c1': 0.5, 'c2': 0.3, 'w':0.9}\n",
    "\n",
    "# Call instance of PSO\n",
    "gbest_pso = ps.single.GBestPSO(n_particles=10, dims=2, **options)\n",
    "\n",
    "# Perform optimization\n",
    "cost, pos = gbest_pso.optimize(fx.sphere_func, print_step=100, iters=1000, verbose=3)"
   ]
  },
  {
   "cell_type": "markdown",
   "metadata": {},
   "source": [
    "We can see that the optimizer was able to find a good minima as shown above. You can control the verbosity of the output using the `verbose` argument, and the number of steps to be printed out using the `print_step` argument."
   ]
  },
  {
   "cell_type": "markdown",
   "metadata": {},
   "source": [
    "Now, let's try this one using local-best PSO:"
   ]
  },
  {
   "cell_type": "code",
   "execution_count": 4,
   "metadata": {
    "scrolled": true
   },
   "outputs": [
    {
     "name": "stdout",
     "output_type": "stream",
     "text": [
      "Iteration 1/1000, cost: 0.0242054338711\n",
      "Iteration 101/1000, cost: 2.97581624567e-08\n",
      "Iteration 201/1000, cost: 7.11602482139e-10\n",
      "Iteration 301/1000, cost: 2.03603327891e-13\n",
      "Iteration 401/1000, cost: 2.06532397175e-17\n",
      "Iteration 501/1000, cost: 1.91037623424e-22\n",
      "Iteration 601/1000, cost: 1.6553317776e-27\n",
      "Iteration 701/1000, cost: 2.01430762053e-33\n",
      "Iteration 801/1000, cost: 9.56525068774e-37\n",
      "Iteration 901/1000, cost: 4.88187595682e-37\n",
      "================================\n",
      "Optimization finished!\n",
      "Final cost: 5.0000\n",
      "Best value: [3.2487681005019184e-19, -5.7752296538288309e-20]\n",
      "\n"
     ]
    }
   ],
   "source": [
    "# Set-up hyperparameters\n",
    "options = {'c1': 0.5, 'c2': 0.3, 'w':0.9, 'k': 2, 'p': 2}\n",
    "\n",
    "# Call instance of PSO\n",
    "lbest_pso = ps.single.LBestPSO(n_particles=10, dims=2, **options)\n",
    "\n",
    "# Perform optimization\n",
    "cost, pos = lbest_pso.optimize(fx.sphere_func, print_step=100, iters=1000, verbose=3)"
   ]
  },
  {
   "cell_type": "markdown",
   "metadata": {},
   "source": [
    "## Optimizing a function with bounds\n",
    "Another thing that we can do is to set some bounds into our solution, so as to contain our candidate solutions within a specific range. We can do this simply by passing a `bounds` parameter, of type `tuple`, when creating an instance of our swarm. Let's try this using the global-best PSO with the Rastrigin function (`rastrigin_func` in `pyswarms.utils.functions.single_obj`)."
   ]
  },
  {
   "cell_type": "markdown",
   "metadata": {},
   "source": [
    "Recall that the Rastrigin function is bounded within `[-5.12, 5.12]`. If we pass an unbounded swarm into this function, then a `ValueError` might be raised. So what we'll do is to create a bound within the specified range. There are some things to remember when specifying a bound:\n",
    "\n",
    "* A bound should be of type tuple with length 2. \n",
    "* It should contain two `numpy.ndarrays` so that we have a `(min_bound, max_bound)`\n",
    "* Obviously, all values in the `max_bound` should always be greater than the `min_bound`. Their shapes should match the dimensions of the swarm."
   ]
  },
  {
   "cell_type": "markdown",
   "metadata": {},
   "source": [
    "What we'll do now is to create a 10-particle, 2-dimensional swarm. This means that we have to set our maximum and minimum boundaries with the shape of 2. In case we want to initialize an n-dimensional swarm, we then have to set our bounds with the same shape n. A fast workaround for this would be to use the `numpy.ones` function multiplied by a constant."
   ]
  },
  {
   "cell_type": "code",
   "execution_count": 5,
   "metadata": {
    "collapsed": true
   },
   "outputs": [],
   "source": [
    "# Create bounds\n",
    "max_bound = 5.12 * np.ones(2)\n",
    "min_bound = - max_bound\n",
    "bounds = (min_bound, max_bound)"
   ]
  },
  {
   "cell_type": "code",
   "execution_count": 6,
   "metadata": {},
   "outputs": [
    {
     "name": "stdout",
     "output_type": "stream",
     "text": [
      "Iteration 1/1000, cost: 11.3842045778\n",
      "Iteration 101/1000, cost: 0.00601961330037\n",
      "Iteration 201/1000, cost: 1.06143502876e-08\n",
      "Iteration 301/1000, cost: 1.12052589429e-11\n",
      "Iteration 401/1000, cost: 7.1054273576e-15\n",
      "Iteration 501/1000, cost: 0.0\n",
      "Iteration 601/1000, cost: 0.0\n",
      "Iteration 701/1000, cost: 0.0\n",
      "Iteration 801/1000, cost: 0.0\n",
      "Iteration 901/1000, cost: 0.0\n",
      "================================\n",
      "Optimization finished!\n",
      "Final cost: 0.0000\n",
      "Best value: [-3.5535227100370778e-09, -8.3294662576708084e-10]\n",
      "\n"
     ]
    }
   ],
   "source": [
    "# Initialize swarm\n",
    "options = {'c1': 0.5, 'c2': 0.3, 'w':0.9}\n",
    "\n",
    "# Call instance of PSO with bounds argument\n",
    "optimizer = ps.single.GBestPSO(n_particles=10, dims=2, bounds=bounds, **options)\n",
    "\n",
    "# Perform optimization\n",
    "cost, pos = optimizer.optimize(fx.rastrigin_func, print_step=100, iters=1000, verbose=3)"
   ]
  }
 ],
 "metadata": {
  "kernelspec": {
   "display_name": "Python 3",
   "language": "python",
   "name": "python3"
  },
  "language_info": {
   "codemirror_mode": {
    "name": "ipython",
    "version": 3
   },
   "file_extension": ".py",
   "mimetype": "text/x-python",
   "name": "python",
   "nbconvert_exporter": "python",
   "pygments_lexer": "ipython3",
   "version": "3.6.1"
  }
 },
 "nbformat": 4,
 "nbformat_minor": 2
}
